{
 "cells": [
  {
   "cell_type": "markdown",
   "metadata": {},
   "source": [
    "# CP-467 Assignment 1\n",
    "\n",
    "**Name: Charnel Dolon | ID: 212207670**"
   ]
  },
  {
   "cell_type": "markdown",
   "metadata": {},
   "source": [
    "### Image Interpolation\n",
    "\n",
    "1. Nearest neightbor interpolation implementation from scratch "
   ]
  },
  {
   "cell_type": "code",
   "execution_count": 2,
   "metadata": {},
   "outputs": [
    {
     "data": {
      "text/plain": [
       "True"
      ]
     },
     "execution_count": 2,
     "metadata": {},
     "output_type": "execute_result"
    }
   ],
   "source": [
    "import cv2\n",
    "import numpy as np\n",
    "\n",
    "def nearest_neighbor_interpolation(image, scale_x, scale_y):\n",
    "    # Get dimensions of the input image\n",
    "    height, width = image.shape[:2]\n",
    "\n",
    "    # Calculate the dimensions of the output image\n",
    "    new_height = int(height * scale_y)\n",
    "    new_width = int(width * scale_x)\n",
    "\n",
    "    # Create an empty image for the output\n",
    "    output_image = np.zeros((new_height, new_width, image.shape[2]), dtype=np.uint8)\n",
    "\n",
    "    # Loop over every pixel in the output\n",
    "    for l in range(new_height):\n",
    "        for w in range(new_width):\n",
    "            # Find the nearest pixel in the input\n",
    "            x = int(w / scale_x)\n",
    "            y = int(l / scale_y)\n",
    "            # Assign the nearest pixel value to the output pixel\n",
    "            output_image[l, w] = image[y, x]\n",
    "    return output_image\n",
    "\n",
    "# Load input image\n",
    "image = cv2.imread('lena.tif')\n",
    "\n",
    "# Downscale the image by half then upscale to original\n",
    "downscaled_image = nearest_neighbor_interpolation(image, 0.5, 0.5)\n",
    "upscaled_image = nearest_neighbor_interpolation(downscaled_image, 2.0, 2.0)\n",
    "\n",
    "# Save the output image\n",
    "cv2.imwrite('lena_nearest_scratch.tif', upscaled_image)"
   ]
  },
  {
   "cell_type": "markdown",
   "metadata": {},
   "source": [
    "2. Nearest neighbor interpolation using OpenCV built-in function"
   ]
  },
  {
   "cell_type": "code",
   "execution_count": 14,
   "metadata": {},
   "outputs": [
    {
     "data": {
      "text/plain": [
       "True"
      ]
     },
     "execution_count": 14,
     "metadata": {},
     "output_type": "execute_result"
    }
   ],
   "source": [
    "import cv2\n",
    "import numpy as np\n",
    "\n",
    "image = cv2.imread('lena.tif')\n",
    "\n",
    "# Downscale the image by half \n",
    "image_downscaled = cv2.resize(image, (image.shape[1]//2, image.shape[0] //2), interpolation=cv2.INTER_NEAREST)\n",
    "\n",
    "# Upscale using Nearest Neighbor\n",
    "image_upscaled_nearest = cv2.resize(image_downscaled, (image.shape[1], image.shape[0]), interpolation=cv2.INTER_NEAREST)\n",
    "cv2.imwrite('lena_nearest_cv.tif', image_upscaled_nearest)"
   ]
  },
  {
   "cell_type": "markdown",
   "metadata": {},
   "source": [
    "3. Bilinear interpolation implementation from scratch"
   ]
  },
  {
   "cell_type": "code",
   "execution_count": 13,
   "metadata": {},
   "outputs": [
    {
     "data": {
      "text/plain": [
       "True"
      ]
     },
     "execution_count": 13,
     "metadata": {},
     "output_type": "execute_result"
    }
   ],
   "source": [
    "def bilinear_interpolation(image, scale_x, scale_y):\n",
    "    # Get dimensions of the input image\n",
    "    height, width = image.shape[:2]\n",
    "\n",
    "    # Calculate the dimensions of the output image\n",
    "    new_height = int(height * scale_y)\n",
    "    new_width = int(width * scale_x)\n",
    "\n",
    "    # Create an empty output image\n",
    "    output_image = np.zeros((new_height, new_width, image.shape[2]), dtype=np.uint8)\n",
    "\n",
    "    # Loop over every pixel in the output image\n",
    "    for l in range(new_height):\n",
    "        for w in range(new_width):\n",
    "            # Find the corresponding coordinates in the input image\n",
    "            x = w / scale_x\n",
    "            y = l / scale_y\n",
    "\n",
    "            # Find the four nearest pixels \n",
    "            x1 = int(x)\n",
    "            y1 = int(y)\n",
    "            x2 = min(x1 + 1, width - 1)\n",
    "            y2 = min(y1 + 1, height - 1)\n",
    "\n",
    "            # Calculate the distances between the pixel and the four nearest pixels\n",
    "            dx = x - x1\n",
    "            dy = y - y1\n",
    "\n",
    "            # Get the pixel values of each neighbor\n",
    "            topleft = image[y1, x1]\n",
    "            topright = image[y1, x2]\n",
    "            bottomleft = image[y2, x1]\n",
    "            bottomright = image[y2, x2]\n",
    "\n",
    "            # Implement bilinear interpolation\n",
    "            top = topleft * (1 - dx) + topright * dx\n",
    "            bottom = bottomleft * (1 - dx) + bottomright * dx\n",
    "            output_pixel = top * (1 - dy) + bottom * dy\n",
    "\n",
    "            # Assign the calculated value to the output pixel\n",
    "            output_image[l, w] = output_pixel\n",
    "\n",
    "    return output_image\n",
    "\n",
    "image = cv2.imread('lena.tif')\n",
    "\n",
    "downscaled_image = bilinear_interpolation(image, 0.5, 0.5)\n",
    "upscaled_image = bilinear_interpolation(downscaled_image, 2.0, 2.0)\n",
    "\n",
    "cv2.imwrite('lena_bilinear_scratch.tif', upscaled_image)"
   ]
  },
  {
   "cell_type": "markdown",
   "metadata": {},
   "source": [
    "4. Bilinear interpolation using OpenCV built-in function"
   ]
  },
  {
   "cell_type": "code",
   "execution_count": 5,
   "metadata": {},
   "outputs": [
    {
     "data": {
      "text/plain": [
       "True"
      ]
     },
     "execution_count": 5,
     "metadata": {},
     "output_type": "execute_result"
    }
   ],
   "source": [
    "import cv2\n",
    "import numpy as np\n",
    "\n",
    "image = cv2.imread('lena.tif')\n",
    "\n",
    "image_downscaled = cv2.resize(image, (image.shape[1]//2, image.shape[0]//2), interpolation=cv2.INTER_LINEAR)\n",
    "\n",
    "image_upscaled_bilinear = cv2.resize(image_downscaled, (image.shape[1], image.shape[0]), interpolation=cv2.INTER_LINEAR)\n",
    "cv2.imwrite('lena_bilinear_cv.tif', image_upscaled_bilinear)\n"
   ]
  },
  {
   "cell_type": "markdown",
   "metadata": {},
   "source": [
    "5. Bicubic interpolation using OpenCV built-in function"
   ]
  },
  {
   "cell_type": "code",
   "execution_count": 4,
   "metadata": {},
   "outputs": [
    {
     "data": {
      "text/plain": [
       "True"
      ]
     },
     "execution_count": 4,
     "metadata": {},
     "output_type": "execute_result"
    }
   ],
   "source": [
    "import cv2\n",
    "\n",
    "image = cv2.imread('lena.tif')\n",
    "\n",
    "image_downscaled = cv2.resize(image, (image.shape[1]//2, image.shape[0]//2), interpolation=cv2.INTER_CUBIC)\n",
    "\n",
    "image_upscaled_bicubic = cv2.resize(image_downscaled, (image.shape[1], image.shape[0]), interpolation=cv2.INTER_CUBIC)\n",
    "cv2.imwrite('lena_bicubic_cv.tif', image_upscaled_bicubic)"
   ]
  },
  {
   "cell_type": "markdown",
   "metadata": {},
   "source": [
    "### Point Operations \n",
    "\n",
    "1. Find the negative of the image and store the output as \"cameraman_negative\"."
   ]
  },
  {
   "cell_type": "code",
   "execution_count": 20,
   "metadata": {},
   "outputs": [
    {
     "data": {
      "text/plain": [
       "True"
      ]
     },
     "execution_count": 20,
     "metadata": {},
     "output_type": "execute_result"
    }
   ],
   "source": [
    "import cv2\n",
    "\n",
    "# Negative image (s = L - 1 - r)\n",
    "def image_negative(image):\n",
    "    negative_image = 255 - image\n",
    "    return negative_image\n",
    "\n",
    "image = cv2.imread('cameraman.tif')\n",
    "cameraman_negative = image_negative(image)\n",
    "cv2.imwrite('cameraman_negative.tif', cameraman_negative)"
   ]
  },
  {
   "cell_type": "markdown",
   "metadata": {},
   "source": [
    "2. Apply power-law transformation on the image (experiment with different gamma\n",
    "values) and store the (best) output as “cameraman_power”."
   ]
  },
  {
   "cell_type": "code",
   "execution_count": 6,
   "metadata": {},
   "outputs": [
    {
     "data": {
      "text/plain": [
       "True"
      ]
     },
     "execution_count": 6,
     "metadata": {},
     "output_type": "execute_result"
    }
   ],
   "source": [
    "import cv2\n",
    "import numpy as np\n",
    "\n",
    "# (s = c*r^v)\n",
    "def power_law_transformation(image, gamma, c=1):\n",
    "    # Normalized image\n",
    "    image_normalized = image / 255.0\n",
    "    # Apply power-law transformation\n",
    "    transformed_image = c * image_normalized**gamma\n",
    "    # Scale back to the range [0, 255]\n",
    "    transformed_image = np.uint8(transformed_image * 255)\n",
    "    return transformed_image\n",
    "\n",
    "image = cv2.imread('cameraman.tif')\n",
    "gamma = 0.5  \n",
    "cameraman_power = power_law_transformation(image, gamma)\n",
    "cv2.imwrite('cameraman_power.tif', cameraman_power)"
   ]
  },
  {
   "cell_type": "markdown",
   "metadata": {},
   "source": [
    "3. Apply bit-plane slicing on the image and store the outputs as “cameraman_b1”,\n",
    "“cameraman_b2”, …, “cameraman_b8”."
   ]
  },
  {
   "cell_type": "code",
   "execution_count": 22,
   "metadata": {},
   "outputs": [],
   "source": [
    "import cv2\n",
    "import numpy as np\n",
    "\n",
    "def bit_plane_slicing(image, bit_plane):\n",
    "    # Extract the specific bit plane by bitwise shifting and masking\n",
    "    sliced_image = np.bitwise_and(image, 1 << bit_plane) >> bit_plane\n",
    "    # Scale it back to 0-255\n",
    "    sliced_image = sliced_image * 255\n",
    "    return sliced_image\n",
    "\n",
    "image = cv2.imread('cameraman.tif')\n",
    "# Extract and save bit planes b1, b2, ..., b8\n",
    "for bit in range(8):\n",
    "    bit_plane_image = bit_plane_slicing(image, bit)\n",
    "    cv2.imwrite(f'cameraman_b{bit+1}.tif', bit_plane_image)"
   ]
  },
  {
   "cell_type": "markdown",
   "metadata": {},
   "source": [
    "### Histogram Processing \n",
    "\n",
    "1. Apply histogram equalization on the “einstein” image and store the output as\n",
    "“einstein _equalized”."
   ]
  },
  {
   "cell_type": "code",
   "execution_count": 8,
   "metadata": {},
   "outputs": [
    {
     "data": {
      "text/plain": [
       "True"
      ]
     },
     "execution_count": 8,
     "metadata": {},
     "output_type": "execute_result"
    }
   ],
   "source": [
    "import cv2\n",
    "import numpy as np\n",
    "\n",
    "def histogram_equalization_custom(image):\n",
    "    # Flatten the image to 1D\n",
    "    flat_image = image.flatten()\n",
    "    # Find the histogram \n",
    "    hist = np.bincount(flat_image, minlength=256)\n",
    "    # Number of pixels in the image \n",
    "    num_pixels = flat_image.size\n",
    "    # Probability distribution function (PDF)\n",
    "    pdf = hist / num_pixels\n",
    "    # Cumulative distribution function (CDF)\n",
    "    cdf = np.cumsum(pdf)\n",
    "    # Find the maximum intensity value \n",
    "    max_intensity_value = np.max(image)\n",
    "    # Scale the CDF by the maximum intensity value and round to nearest integer\n",
    "    cdf_scaled = np.round(cdf * max_intensity_value).astype(np.uint8)\n",
    "    # Map the original pixel values to the new equalized values and reshape\n",
    "    equalized_image = cdf_scaled[flat_image]\n",
    "    equalized_image = equalized_image.reshape(image.shape)\n",
    "    return equalized_image\n",
    "\n",
    "image = cv2.imread('einstein.tif')\n",
    "# Apply histogram equalization using the custom function\n",
    "equalized_image_custom = histogram_equalization_custom(image)\n",
    "\n",
    "cv2.imwrite('einstein_equalized.jpeg', equalized_image_custom)"
   ]
  },
  {
   "cell_type": "markdown",
   "metadata": {},
   "source": [
    "2. Apply histogram specification on “chest_x-ray1” image so that it matches the\n",
    "histogram of “chest_x-ray2”. Store the output as “chest_x-ray3”."
   ]
  },
  {
   "cell_type": "code",
   "execution_count": 47,
   "metadata": {},
   "outputs": [
    {
     "data": {
      "text/plain": [
       "True"
      ]
     },
     "execution_count": 47,
     "metadata": {},
     "output_type": "execute_result"
    }
   ],
   "source": [
    "import cv2\n",
    "import numpy as np\n",
    "\n",
    "def calculate_cdf(hist):\n",
    "    # Compute the cumulative distribution function (CDF) from the histogram\n",
    "    return np.cumsum(hist)\n",
    "\n",
    "def histogram_specification(source_image, reference_image):\n",
    "    # Flatten both images to 1D \n",
    "    source_flat = source_image.flatten()\n",
    "    reference_flat = reference_image.flatten()\n",
    "\n",
    "    # Calculate the histograms for both source and reference inputs\n",
    "    source_hist = np.bincount(source_flat, minlength=256)\n",
    "    reference_hist = np.bincount(reference_flat, minlength=256)\n",
    "\n",
    "    # Compute the CDF for both \n",
    "    source_cdf = calculate_cdf(source_hist)\n",
    "    reference_cdf = calculate_cdf(reference_hist)\n",
    "\n",
    "    # Normalize the CDFs\n",
    "    source_cdf_normalized = source_cdf * 255 / source_cdf[-1]\n",
    "    reference_cdf_normalized = reference_cdf * 255 / reference_cdf[-1]\n",
    "\n",
    "    # Create a mapping from source image values to reference image values\n",
    "    mapping = np.zeros(256, dtype=np.uint8)\n",
    "    ref_index = 0\n",
    "\n",
    "    for src_index in range(256):\n",
    "        while reference_cdf_normalized[ref_index] < source_cdf_normalized[src_index] and ref_index < 255:\n",
    "            ref_index += 1\n",
    "        mapping[src_index] = ref_index\n",
    "\n",
    "    # Apply the mapping to the source image\n",
    "    specified_image = mapping[source_flat]\n",
    "    specified_image = np.reshape(specified_image, source_image.shape).astype(np.uint8)\n",
    "\n",
    "    return specified_image\n",
    "\n",
    "source_image = cv2.imread(\"C:/Users/Charnel/Desktop/Charnel's Folder/School/Y4S1/CP467/dolo7670_a01/chest_x-ray1.jpeg\")\n",
    "reference_image = cv2.imread(\"C:/Users/Charnel/Desktop/Charnel's Folder/School/Y4S1/CP467/dolo7670_a01/chest_x-ray2.jpeg\")\n",
    "# Apply histogram specification\n",
    "specified_image = histogram_specification(source_image, reference_image)\n",
    "cv2.imwrite('chest_xray3.jpeg', specified_image)"
   ]
  }
 ],
 "metadata": {
  "kernelspec": {
   "display_name": "Python 3",
   "language": "python",
   "name": "python3"
  },
  "language_info": {
   "codemirror_mode": {
    "name": "ipython",
    "version": 3
   },
   "file_extension": ".py",
   "mimetype": "text/x-python",
   "name": "python",
   "nbconvert_exporter": "python",
   "pygments_lexer": "ipython3",
   "version": "3.9.7"
  }
 },
 "nbformat": 4,
 "nbformat_minor": 2
}
